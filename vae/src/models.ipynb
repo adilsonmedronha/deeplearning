{
 "cells": [
  {
   "cell_type": "code",
   "execution_count": 161,
   "metadata": {},
   "outputs": [],
   "source": [
    "import torch\n",
    "import torch.nn as nn"
   ]
  },
  {
   "cell_type": "code",
   "execution_count": 162,
   "metadata": {},
   "outputs": [],
   "source": [
    "convd = nn.Conv2d(in_channels=3, out_channels=3, kernel_size=5, stride=1)\n",
    "x = torch.rand(1, 3, 125, 125)"
   ]
  },
  {
   "cell_type": "code",
   "execution_count": 163,
   "metadata": {},
   "outputs": [
    {
     "data": {
      "text/plain": [
       "torch.Size([1, 3, 121, 121])"
      ]
     },
     "execution_count": 163,
     "metadata": {},
     "output_type": "execute_result"
    }
   ],
   "source": [
    "convd(x).shape"
   ]
  },
  {
   "cell_type": "code",
   "execution_count": 164,
   "metadata": {},
   "outputs": [
    {
     "data": {
      "text/plain": [
       "61.0"
      ]
     },
     "execution_count": 164,
     "metadata": {},
     "output_type": "execute_result"
    }
   ],
   "source": [
    "(125 + 2*0 - 1 * (5-1)-1) / 2 + 1"
   ]
  },
  {
   "cell_type": "code",
   "execution_count": 173,
   "metadata": {},
   "outputs": [],
   "source": [
    "encoder = nn.Sequential(\n",
    "    nn.Conv2d(3, 128, kernel_size=3), \n",
    "    nn.LeakyReLU(),\n",
    "    nn.MaxPool2d(2, 2),  \n",
    "    nn.Conv2d(128, 64, kernel_size=3),\n",
    "    nn.LeakyReLU(),\n",
    "    nn.MaxPool2d(2, 2),\n",
    "    nn.Conv2d(64, 2, kernel_size=3),\n",
    "    nn.LeakyReLU(),\n",
    "    nn.AvgPool2d(4, 4),\n",
    "    nn.Sigmoid()\n",
    ")"
   ]
  },
  {
   "cell_type": "code",
   "execution_count": 174,
   "metadata": {},
   "outputs": [
    {
     "name": "stdout",
     "output_type": "stream",
     "text": [
      "torch.Size([1, 3, 125, 125])\n",
      "torch.Size([1, 2, 6, 6])\n",
      "torch.Size([1, 1, 6, 6])\n",
      "torch.Size([1, 1, 6, 6])\n"
     ]
    }
   ],
   "source": [
    "z = encoder(x)\n",
    "print(x.shape)\n",
    "\n",
    "print(z.shape)\n",
    "\n",
    "mu, std = torch.chunk(z, 2, dim=1)\n",
    "print(mu.shape)\n",
    "print(std.shape)"
   ]
  },
  {
   "cell_type": "code",
   "execution_count": 175,
   "metadata": {},
   "outputs": [
    {
     "data": {
      "text/plain": [
       "torch.Size([1, 1, 6, 6])"
      ]
     },
     "execution_count": 175,
     "metadata": {},
     "output_type": "execute_result"
    }
   ],
   "source": [
    "epsilon = torch.randn_like(std)\n",
    "(mu + std * epsilon).shape"
   ]
  },
  {
   "cell_type": "code",
   "execution_count": 180,
   "metadata": {},
   "outputs": [],
   "source": [
    "decoder = nn.Sequential(\n",
    "            nn.ConvTranspose2d(1, 32, kernel_size=4, stride=3),  \n",
    "            nn.LeakyReLU(),\n",
    "            nn.Dropout(0.2),\n",
    "            nn.ConvTranspose2d(32, 64, kernel_size=5, stride=2), \n",
    "            nn.LeakyReLU(),\n",
    "            nn.Dropout(0.2),\n",
    "            nn.ConvTranspose2d(64, 3, kernel_size=5, stride=3),  \n",
    "            nn.Sigmoid(),\n",
    "        )"
   ]
  },
  {
   "cell_type": "code",
   "execution_count": 187,
   "metadata": {},
   "outputs": [],
   "source": [
    "encoder = nn.Sequential(\n",
    "    nn.Conv2d(3, 128, kernel_size=3), \n",
    "    nn.LeakyReLU(),\n",
    "    nn.MaxPool2d(2, 2),  \n",
    "    nn.Conv2d(128, 64, kernel_size=3),\n",
    "    nn.BatchNorm2d(64),\n",
    "    nn.LeakyReLU(),\n",
    "    nn.Dropout(0.2),\n",
    "    nn.MaxPool2d(2, 2),\n",
    "    nn.Conv2d(64, 32, kernel_size=3),\n",
    "    nn.BatchNorm2d(32),\n",
    "    nn.LeakyReLU(),\n",
    "    nn.Dropout(0.2),\n",
    "    nn.AvgPool2d(4, 4),\n",
    "    nn.Sigmoid()\n",
    ")"
   ]
  },
  {
   "cell_type": "code",
   "execution_count": 188,
   "metadata": {},
   "outputs": [
    {
     "data": {
      "text/plain": [
       "torch.Size([1, 32, 6, 6])"
      ]
     },
     "execution_count": 188,
     "metadata": {},
     "output_type": "execute_result"
    }
   ],
   "source": [
    "encoder(x).shape"
   ]
  },
  {
   "cell_type": "code",
   "execution_count": 181,
   "metadata": {},
   "outputs": [
    {
     "name": "stdout",
     "output_type": "stream",
     "text": [
      "x shape torch.Size([1, 3, 125, 125])\n",
      "z shape torch.Size([1, 2, 6, 6])\n",
      "reparametrized shape torch.Size([1, 1, 6, 6])\n"
     ]
    },
    {
     "data": {
      "text/plain": [
       "torch.Size([1, 3, 125, 125])"
      ]
     },
     "execution_count": 181,
     "metadata": {},
     "output_type": "execute_result"
    }
   ],
   "source": [
    "print(f\"x shape {x.shape}\")\n",
    "z = encoder(x)\n",
    "print(f\"z shape {z.shape}\")\n",
    "mu, std = torch.chunk(z, 2, dim=1)\n",
    "reparametrized = mu + std * epsilon\n",
    "print(f\"reparametrized shape {reparametrized.shape}\")\n",
    "decoder(reparametrized).shape"
   ]
  },
  {
   "cell_type": "code",
   "execution_count": 179,
   "metadata": {},
   "outputs": [
    {
     "data": {
      "text/plain": [
       "torch.Size([1, 1, 6, 6])"
      ]
     },
     "execution_count": 179,
     "metadata": {},
     "output_type": "execute_result"
    }
   ],
   "source": [
    "a, b = torch.chunk(z, 2, dim=1)\n",
    "a.shape"
   ]
  },
  {
   "cell_type": "code",
   "execution_count": 172,
   "metadata": {},
   "outputs": [
    {
     "data": {
      "text/plain": [
       "tensor([[[[0.1947, 0.1869, 0.0720, 0.0640, 0.6945, 0.1808],\n",
       "          [0.9699, 0.3669, 0.4649, 0.8570, 0.0835, 0.8719],\n",
       "          [0.6307, 0.5288, 0.5091, 0.3423, 0.8141, 0.4047],\n",
       "          [0.1789, 0.2870, 0.7794, 0.8136, 0.5916, 0.3348],\n",
       "          [0.7483, 0.2280, 0.4744, 0.4220, 0.3694, 0.4874],\n",
       "          [0.7278, 0.5962, 0.4991, 0.9466, 0.6940, 0.6751]],\n",
       "\n",
       "         [[0.8266, 0.0913, 0.5797, 0.6590, 0.4403, 0.3220],\n",
       "          [0.2269, 0.1041, 0.1151, 0.4514, 0.1786, 0.3197],\n",
       "          [0.7309, 0.8226, 0.4288, 0.3464, 0.0851, 0.6143],\n",
       "          [0.7580, 0.9073, 0.6290, 0.0771, 0.4638, 0.6823],\n",
       "          [0.5425, 0.3538, 0.3184, 0.7134, 0.3482, 0.8598],\n",
       "          [0.2722, 0.5287, 0.9049, 0.8431, 0.0386, 0.2790]]]])"
      ]
     },
     "execution_count": 172,
     "metadata": {},
     "output_type": "execute_result"
    }
   ],
   "source": [
    "xx = torch.rand(1, 2, 6, 6)\n",
    "xx"
   ]
  }
 ],
 "metadata": {
  "kernelspec": {
   "display_name": "tudo",
   "language": "python",
   "name": "python3"
  },
  "language_info": {
   "codemirror_mode": {
    "name": "ipython",
    "version": 3
   },
   "file_extension": ".py",
   "mimetype": "text/x-python",
   "name": "python",
   "nbconvert_exporter": "python",
   "pygments_lexer": "ipython3",
   "version": "3.10.12"
  },
  "orig_nbformat": 4
 },
 "nbformat": 4,
 "nbformat_minor": 2
}
