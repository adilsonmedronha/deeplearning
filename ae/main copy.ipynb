{
 "cells": [
  {
   "cell_type": "code",
   "execution_count": 20,
   "metadata": {},
   "outputs": [
    {
     "name": "stdout",
     "output_type": "stream",
     "text": [
      "NeuralNetwork(\n",
      "   Layer 0: (784, 32) \n",
      "   Layer 1: (32, 784) \n",
      ")\n"
     ]
    }
   ],
   "source": [
    "import numpy as np\n",
    "from nn import NeuralNetwork\n",
    "from loss import MSE\n",
    "from activation import ReLU, Sigmoid\n",
    "from layer import Layer\n",
    "\n",
    "from torchvision import transforms\n",
    "from torch.utils.data import DataLoader\n",
    "from torchvision.datasets import MNIST\n",
    "\n",
    "\n",
    "layers = [Layer(1, 4, \n",
    "          ReLU()), \n",
    "          Layer(4, 5, \n",
    "          ReLU()),\n",
    "          Layer(5, 6, \n",
    "          ReLU()),\n",
    "          Layer(6, 7, \n",
    "          ReLU()),\n",
    "          Layer(7, 2, \n",
    "          ReLU())]\n",
    "\n",
    "x = np.random.random((784, 1))\n",
    "\n",
    "layers = [Layer(784, 32, \n",
    "          ReLU()), \n",
    "          Layer(32, 784, \n",
    "          Sigmoid())]\n",
    "\n",
    "nn_my = NeuralNetwork(layers)\n",
    "mse = MSE(nn_my)\n",
    "l2 = mse(x, x)\n",
    "pred = nn_my(x)\n",
    "print(nn_my)\n",
    "mse.backward()"
   ]
  },
  {
   "cell_type": "code",
   "execution_count": 21,
   "metadata": {},
   "outputs": [],
   "source": [
    "import torch.nn as nn\n",
    "\n",
    "class NNT(nn.Module):\n",
    "\n",
    "\n",
    "    def __init__(self):\n",
    "        super(NNT, self).__init__()\n",
    "        self.model = nn.Sequential(\n",
    "            nn.Linear(784, 32),\n",
    "            nn.ReLU(),\n",
    "            nn.Linear(32, 784),\n",
    "            nn.Sigmoid()\n",
    "        )\n",
    "\n",
    "    def forward(self, x):\n",
    "        activations = []\n",
    "        for layer in self.model:\n",
    "            x = layer(x)\n",
    "            activations.append(x.clone())\n",
    "        return x, activations\n",
    "\n",
    "    def forward_original(self, x):\n",
    "        return self.model(x)\n",
    "\n",
    "from torch import optim\n",
    "nnt = NNT()\n",
    "opt = optim.SGD(nnt.parameters(), lr=0.05)\n",
    "loss_t = nn.MSELoss()"
   ]
  },
  {
   "cell_type": "code",
   "execution_count": 22,
   "metadata": {},
   "outputs": [],
   "source": [
    "transform = transforms.Compose([transforms.ToTensor()])\n",
    "train_dataset = MNIST(root='data', train=True, transform=transform, download=True)\n",
    "train_loader = DataLoader(train_dataset, batch_size=1, shuffle=True)"
   ]
  },
  {
   "cell_type": "code",
   "execution_count": 23,
   "metadata": {},
   "outputs": [],
   "source": [
    "def optimizer(nn):\n",
    "    for layer in nn.layers:\n",
    "        layer.W -= 0.000000005 * layer.grad_local.T\n",
    "        layer.b -= 0.000000005 * layer.delta"
   ]
  },
  {
   "cell_type": "code",
   "execution_count": 24,
   "metadata": {},
   "outputs": [],
   "source": [
    "def zero_grad(nn):\n",
    "    for layer in nn.layers:\n",
    "        layer.grad_local = 0\n",
    "        layer.delta = 0"
   ]
  },
  {
   "cell_type": "code",
   "execution_count": 25,
   "metadata": {},
   "outputs": [
    {
     "data": {
      "text/plain": [
       "(784, 1)"
      ]
     },
     "execution_count": 25,
     "metadata": {},
     "output_type": "execute_result"
    }
   ],
   "source": [
    "x, y = next(iter(train_loader))\n",
    "a = x.reshape((784, -1)).numpy()\n",
    "a.shape"
   ]
  },
  {
   "cell_type": "code",
   "execution_count": 19,
   "metadata": {},
   "outputs": [],
   "source": []
  },
  {
   "cell_type": "code",
   "execution_count": 7,
   "metadata": {},
   "outputs": [],
   "source": [
    "EPOCHS = 10000\n",
    "LOSS_T = []\n",
    "LOSS = []\n",
    "import torch\n",
    "for i in range(EPOCHS):\n",
    "    #for data in train_loader:\n",
    "    #x, _ = data\n",
    "    #x = x.reshape((784, -1)).numpy()\n",
    "    pred = nn_my(a)\n",
    "    loss = mse(pred, a)\n",
    "    LOSS.append(loss)\n",
    "    mse.backward()\n",
    "    optimizer(nn_my)\n",
    "    zero_grad(nn_my)\n",
    "    ## torch\n",
    "    x = x.reshape((-1, 784))\n",
    "    x = torch.asarray(x)\n",
    "    pred_t, activations = nnt(x)\n",
    "    loss = loss_t(pred_t, x)\n",
    "    LOSS_T.append(loss)\n",
    "    loss.backward()\n",
    "    opt.step()\n",
    "    opt.zero_grad()"
   ]
  },
  {
   "cell_type": "code",
   "execution_count": 8,
   "metadata": {},
   "outputs": [
    {
     "data": {
      "image/png": "[encoded data removed]",
      "text/plain": [
       "<Figure size 1200x400 with 4 Axes>"
      ]
     },
     "metadata": {},
     "output_type": "display_data"
    }
   ],
   "source": [
    "import matplotlib.pyplot as plt\n",
    "import torch\n",
    "\n",
    "input_image_tensor = a.reshape(1, 1, 28, 28)   # torch.Tensor\n",
    "torch_image_tensor = pred_t.detach().reshape(1, 1, 28, 28)  # torch.Tensor\n",
    "mine_image_tensor = pred.reshape(1, 1, 28, 28) # numpy.ndarray\n",
    "\n",
    "\n",
    "input_image_np = input_image_tensor.squeeze()  # Remove singleton dimensions\n",
    "torch_image_np = torch_image_tensor.squeeze().numpy()\n",
    "mine_image_np = mine_image_tensor.squeeze()\n",
    "diff = input_image_np - torch_image_np\n",
    "\n",
    "fig, axes = plt.subplots(1, 4, figsize=(12, 4))\n",
    "\n",
    "axes[0].imshow(input_image_np, cmap='gray')  # Use 'gray' colormap for grayscale images\n",
    "axes[0].set_title('Input Image')\n",
    "axes[0].axis('off')\n",
    "\n",
    "axes[1].imshow(torch_image_np, cmap='gray')\n",
    "axes[1].set_title('Torch Image')\n",
    "axes[1].axis('off')\n",
    "\n",
    "axes[2].imshow(mine_image_np, cmap='gray')\n",
    "axes[2].set_title('Mine Image')\n",
    "axes[2].axis('off')\n",
    "\n",
    "axes[3].imshow(diff, cmap='gray')\n",
    "axes[3].set_title('Difference')\n",
    "axes[3].axis('off')\n",
    "plt.show()"
   ]
  },
  {
   "cell_type": "code",
   "execution_count": null,
   "metadata": {},
   "outputs": [],
   "source": [
    "import numpy as np\n",
    "\n",
    "random_array = np.random.uniform(low=-1, high=1, size=(3, 4))\n",
    "print(random_array)"
   ]
  },
  {
   "cell_type": "code",
   "execution_count": null,
   "metadata": {},
   "outputs": [],
   "source": [
    "numpy_array = np.random.randn(3, 3) * np.sqrt(2.0 / (3 + 3))  \n",
    "numpy_array"
   ]
  },
  {
   "cell_type": "code",
   "execution_count": null,
   "metadata": {},
   "outputs": [],
   "source": [
    "torch.nn.Linear(3,3).weight.data"
   ]
  },
  {
   "cell_type": "code",
   "execution_count": null,
   "metadata": {},
   "outputs": [],
   "source": [
    "torch.nn.Linear(3,3).bias.data"
   ]
  },
  {
   "cell_type": "code",
   "execution_count": null,
   "metadata": {},
   "outputs": [],
   "source": [
    "import matplotlib.pyplot as plt\n",
    "\n",
    "plt.plot(LOSS, label='Loss')\n",
    "plt.xlabel('Batch Iterations')\n",
    "plt.ylabel('Loss')\n",
    "plt.title('Loss Over Batch Iterations')\n",
    "plt.legend()\n",
    "plt.show()"
   ]
  },
  {
   "cell_type": "code",
   "execution_count": null,
   "metadata": {},
   "outputs": [],
   "source": [
    "print(nn)"
   ]
  },
  {
   "cell_type": "code",
   "execution_count": null,
   "metadata": {},
   "outputs": [],
   "source": [
    "for l, layer in enumerate(nn_my.layers):\n",
    "    print(f'l= {l}')\n",
    "    print(f'x shape {layer.x.shape}')\n",
    "    print(f'W shape {layer.W.shape}')\n",
    "    print(f'W.T @, x.shape {(layer.W.T.shape, layer.x.shape)} = {(layer.W.T @ layer.x).shape}')\n",
    "    print(f'B shape {layer.b.shape}')\n",
    "    print(f'a shape {layer.a.shape}')\n",
    "    print(f'z shape {layer.z.shape}')\n",
    "    print(f'GRADS')\n",
    "    print(f'local {layer.grad_local.shape}')\n",
    "    print(f'delta {layer.delta.shape}\\n')\n"
   ]
  }
 ],
 "metadata": {
  "kernelspec": {
   "display_name": "tudo",
   "language": "python",
   "name": "python3"
  },
  "language_info": {
   "codemirror_mode": {
    "name": "ipython",
    "version": 3
   },
   "file_extension": ".py",
   "mimetype": "text/x-python",
   "name": "python",
   "nbconvert_exporter": "python",
   "pygments_lexer": "ipython3",
   "version": "3.10.12"
  }
 },
 "nbformat": 4,
 "nbformat_minor": 2
}
